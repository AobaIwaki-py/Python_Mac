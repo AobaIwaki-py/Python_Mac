{
 "cells": [
  {
   "cell_type": "markdown",
   "metadata": {},
   "source": [
    "# PythonでSpotifyから楽曲情報を取得する\n",
    "## Spotipyのチュートリアル\n",
    "参考：  \n",
    "https://youtu.be/YLkIGx1aE60  \n",
    "https://github.com/spotipy-dev/spotipy"
   ]
  },
  {
   "cell_type": "code",
   "execution_count": 2,
   "metadata": {},
   "outputs": [],
   "source": [
    "import spotipy\n",
    "from spotipy.oauth2 import SpotifyClientCredentials"
   ]
  },
  {
   "cell_type": "code",
   "execution_count": 4,
   "metadata": {},
   "outputs": [],
   "source": [
    "sp = spotipy.Spotify(auth_manager=SpotifyClientCredentials( client_id=\"08e4d798ed7946aa8583ccb5dc302583\",\n",
    "                                                            client_secret=\"635d73e0ef4a484187d9d394bd1d97a5\"))"
   ]
  },
  {
   "cell_type": "code",
   "execution_count": 5,
   "metadata": {},
   "outputs": [
    {
     "name": "stdout",
     "output_type": "stream",
     "text": [
      "0 Shivers\n",
      "1 Bam Bam (feat. Ed Sheeran)\n",
      "2 Perfect\n",
      "3 Tides\n",
      "4 Bad Habits\n",
      "5 Eraser\n",
      "6 Shape of You\n",
      "7 This\n",
      "8 Thinking out Loud\n",
      "9 Tides\n",
      "10 Bam Bam (feat. Ed Sheeran)\n",
      "11 Shivers\n",
      "12 Shivers\n",
      "13 Celestial\n",
      "14 Photograph\n",
      "15 So\n",
      "16 For My Hand (feat. Ed Sheeran)\n",
      "17 This\n",
      "18 Samudraṁ\n",
      "19 Happier\n"
     ]
    }
   ],
   "source": [
    "results = sp.search(q='Ed Sheeran', limit=20)\n",
    "for idx, track in enumerate(results['tracks']['items']):\n",
    "    print(idx, track['name'])"
   ]
  }
 ],
 "metadata": {
  "kernelspec": {
   "display_name": "Python 3.9.13 ('wataken')",
   "language": "python",
   "name": "python3"
  },
  "language_info": {
   "codemirror_mode": {
    "name": "ipython",
    "version": 3
   },
   "file_extension": ".py",
   "mimetype": "text/x-python",
   "name": "python",
   "nbconvert_exporter": "python",
   "pygments_lexer": "ipython3",
   "version": "3.9.13"
  },
  "orig_nbformat": 4,
  "vscode": {
   "interpreter": {
    "hash": "c53defeb22dc68432fdceb4bdb4f91902af77c79b44762e4f4cf58e32e4fd5ef"
   }
  }
 },
 "nbformat": 4,
 "nbformat_minor": 2
}
